{
 "cells": [
  {
   "cell_type": "code",
   "execution_count": 3,
   "metadata": {},
   "outputs": [],
   "source": [
    "# load python modules\n",
    "import Bio\n",
    "from Bio import Entrez\n",
    "from Bio import SeqIO\n",
    "from dicttoxml import dicttoxml"
   ]
  },
  {
   "cell_type": "markdown",
   "metadata": {},
   "source": [
    "## Phylogenetic of Cetartiodactyla (китопарнокопытные)\n",
    "\n",
    "ATTENTION: НЕ ЗАКОНЧЕНО. ПОСЛЕДНЕЕ ДЕРЕВО И ВЫВОДЫ БУДЕТ УТРОМ.\n",
    "\n",
    "For this task, I took 10 spices. Their names are located in `Cetartiodactyla.txt`\n",
    "\n",
    "Look at them:"
   ]
  },
  {
   "cell_type": "code",
   "execution_count": 4,
   "metadata": {},
   "outputs": [
    {
     "name": "stdout",
     "output_type": "stream",
     "text": [
      "+ Mysticeti (whale)\n",
      "+ Orcinus orca (косатка)\n",
      "+ Physeter catodon (кашалот)\n",
      "+ Lagenorhynchus obliquidens (dolphin)\n",
      "+ Ovis\n",
      "+ Camelus\n",
      "+ Vicugna pacos (alpaca)\n",
      "+ Equus asinus (donkey)\n",
      "+ Equus caballus\n",
      "+ Ceratotherium simum(rhyno)\n",
      "+ Mus Musсulus (аутгруппа)\n",
      "\n"
     ]
    }
   ],
   "source": [
    "names = []\n",
    "with open('Cetartiodactyla.txt', 'r') as input_file:\n",
    "    text = input_file.read()\n",
    "    names = text.split('\\n')\n",
    "for n in names:\n",
    "    print(n)"
   ]
  },
  {
   "cell_type": "markdown",
   "metadata": {},
   "source": [
    "Возял (ручками, из NCBI) два маркера: митохондриальную *ДНК* и ядерный ген *18S*.\n",
    "\n",
    "18s не нашел для косатки, а нашел для Globicephala melas (род дельфиновых - обыкновенная гринда), заодно для нее и мтДНА нашел. И для вот этих друзей: Vicugna pacos (alpaca),Equus asinus (donkey), Ceratotherium simum(rhyno). \n",
    "\n",
    "Итого 12 штук мтДНА и 18s 8 штук.\n",
    "\n",
    "Они в файлых `seq*.fasta` и `mt_*.fasta`"
   ]
  },
  {
   "cell_type": "code",
   "execution_count": 6,
   "metadata": {},
   "outputs": [
    {
     "name": "stdout",
     "output_type": "stream",
     "text": [
      ">XR_003622008.1 PREDICTED: Balaenoptera acutorostrata scammoni 18S ribosomal (whale) RNA (LOC114235940), rRNA\r\n",
      ">XR_004038418.1 PREDICTED: Globicephala melas 18S ribosomal RNA (LOC115850519), rRNA\r\n",
      ">XR_002890936.1 PREDICTED: Physeter catodon 18S ribosomal RNA (LOC112063250), rRNA\r\n",
      ">XR_003587981.1 PREDICTED: Ovis aries 18S ribosomal RNA (LOC114112702), rRNA\r\n",
      ">XR_004135034.1 PREDICTED: Camelus dromedarius 18S ribosomal RNA (LOC116151409), rRNA\r\n",
      ">NR_046271.1 Equus caballus 18S ribosomal RNA (RN18S), ribosomal RNA\r\n",
      ">XR_003431446.1 PREDICTED: Lagenorhynchus obliquidens 18S ribosomal RNA (LOC113616899), rRNA\r\n",
      ">NR_003278.3 Mus musculus 18S ribosomal RNA (Rn18s), ribosomal RNA\r\n"
     ]
    }
   ],
   "source": [
    "!cat seq*.fasta > 18s.fasta\n",
    "!cat 18s.fasta | grep -e '>'"
   ]
  },
  {
   "cell_type": "code",
   "execution_count": 7,
   "metadata": {},
   "outputs": [
    {
     "name": "stdout",
     "output_type": "stream",
     "text": [
      ">NC_001601.1 Balaenoptera musculus (Mysticeti) mitochondrion, complete genome\r\n",
      ">NC_002504.1 Lama pacos mitochondrion, complete genome\r\n",
      ">MF925712.1 Equus caballus mitochondrion, complete genome\r\n",
      ">NC_009629.2 Camelus ferus mitochondrion, complete genome\r\n",
      ">NC_002503.2 Physeter catodon mitochondrion, complete genome\r\n",
      ">NC_001808.1 Ceratotherium simum mitochondrion, complete genome\r\n",
      ">MH992390.1 Lagenorhynchus obliquidens mitochondrion, complete genome\r\n",
      ">NC_001788.1 Equus asinus (donkey) mitochondrion, complete genome\r\n",
      ">CM017011.1 Globicephala melas isolate X-22926-18 mitochondrion, complete sequence, whole genome shotgun sequence\r\n",
      ">CM004277.1 Mus musculus strain C57BL/6NJ mitochondrion, complete sequence, whole genome shotgun sequence\r\n",
      ">NC_023889.1 Orcinus orca isolate ENAHN1 mitochondrion, complete genome\r\n",
      ">KF312238.2 Ovis orientalis ophion mitochondrion, complete genome\r\n"
     ]
    }
   ],
   "source": [
    "!cat mt_*.fasta > mt.fasta\n",
    "!cat mt.fasta | grep -e '>'"
   ]
  },
  {
   "cell_type": "markdown",
   "metadata": {},
   "source": [
    "### Выровняем маффтом и построим деревья"
   ]
  },
  {
   "cell_type": "code",
   "execution_count": 10,
   "metadata": {},
   "outputs": [
    {
     "name": "stdout",
     "output_type": "stream",
     "text": [
      "\n",
      "nthread = 0\n",
      "stacksize: 8192 kb\n",
      "generating a scoring matrix for nucleotide (dist=200) ... done\n",
      "Gap Penalty = -1.53, +0.00, +0.00\n",
      "\n",
      "\n",
      "\n",
      "Making a distance matrix ..\n",
      "\n",
      "There are 1 ambiguous characters.\n",
      "    1 / 12\n",
      "done.\n",
      "\n",
      "Constructing a UPGMA tree (efffree=0) ... \n",
      "   10 / 12\n",
      "done.\n",
      "\n",
      "Progressive alignment 1/2... \n",
      "STEP     6 / 11 f\n",
      "Reallocating..done. *alloclen = 34845\n",
      "STEP    11 / 11 d\n",
      "done.\n",
      "\n",
      "Making a distance matrix from msa.. \n",
      "    0 / 12\n",
      "done.\n",
      "\n",
      "Constructing a UPGMA tree (efffree=1) ... \n",
      "   10 / 12\n",
      "done.\n",
      "\n",
      "Progressive alignment 2/2... \n",
      "STEP     7 / 11 f\n",
      "Reallocating..done. *alloclen = 35169\n",
      "STEP    11 / 11 d\n",
      "done.\n",
      "\n",
      "disttbfast (nuc) Version 7.310 alg=A, model=DNA200 (2), 1.53 (4.59), -0.00 (-0.00), noshift, amax=0.0\n",
      "0 thread(s)\n",
      "\n",
      "\n",
      "Strategy:\n",
      " FFT-NS-2 (Fast but rough)\n",
      " Progressive method (guide trees were built 2 times.)\n",
      "\n",
      "If unsure which option to use, try 'mafft --auto input > output'.\n",
      "For more information, see 'mafft --help', 'mafft --man' and the mafft page.\n",
      "\n",
      "The default gap scoring scheme has been changed in version 7.110 (2013 Oct).\n",
      "It tends to insert more gaps into gap-rich regions than previous versions.\n",
      "To disable this change, add the --leavegappyregion option.\n",
      "\n",
      "73.35user 0.75system 1:14.11elapsed 99%CPU (0avgtext+0avgdata 1971748maxresident)k\n",
      "16inputs+1440outputs (1major+506706minor)pagefaults 0swaps\n"
     ]
    }
   ],
   "source": [
    "!time mafft --auto mt.fasta > mafft_mt.fasta"
   ]
  },
  {
   "cell_type": "code",
   "execution_count": 11,
   "metadata": {},
   "outputs": [
    {
     "name": "stdout",
     "output_type": "stream",
     "text": [
      "\n",
      "generating a scoring matrix for nucleotide (dist=200) ... done\n",
      "All-to-all alignment.\n",
      "tbfast-pair (nuc) Version 7.310 alg=L, model=DNA200 (2), 2.00 (6.00), -0.10 (-0.30), noshift, amax=0.0\n",
      "0 thread(s)\n",
      "\n",
      "Loading 'hat3.seed' ... \n",
      "done.\n",
      "Writing hat3 for iterative refinement\n",
      "generating a scoring matrix for nucleotide (dist=200) ... done\n",
      "Gap Penalty = -1.53, +0.00, +0.00\n",
      "treein = 0\n",
      "compacttree = 0\n",
      "Constructing a UPGMA tree ... \n",
      "    0 / 8\n",
      "done.\n",
      "\n",
      "Progressive alignment ... \n",
      "STEP     7 /7 c\n",
      "done.\n",
      "tbfast (nuc) Version 7.310 alg=A, model=DNA200 (2), 1.53 (4.59), -0.00 (-0.00), noshift, amax=0.0\n",
      "0 thread(s)\n",
      "\n",
      "minimumweight = 0.000010\n",
      "autosubalignment = 0.000000\n",
      "nthread = 0\n",
      "randomseed = 0\n",
      "blosum 62 / kimura 200\n",
      "poffset = 0\n",
      "niter = 16\n",
      "sueff_global = 0.100000\n",
      "Loading 'hat3' ... done.\n",
      "generating a scoring matrix for nucleotide (dist=200) ... done\n",
      "\n",
      "    0 / 8\n",
      "Segment   1/  1    1-1890\n",
      "STEP 003-002-0  identical.    identical.    identical.    identical.    identical.    identical.   \n",
      "Converged.\n",
      "\n",
      "done\n",
      "dvtditr (nuc) Version 7.310 alg=A, model=DNA200 (2), 1.53 (4.59), -0.00 (-0.00), noshift, amax=0.0\n",
      "0 thread(s)\n",
      "\n",
      "\n",
      "Strategy:\n",
      " L-INS-i (Probably most accurate, very slow)\n",
      " Iterative refinement method (<16) with LOCAL pairwise alignment information\n",
      "\n",
      "If unsure which option to use, try 'mafft --auto input > output'.\n",
      "For more information, see 'mafft --help', 'mafft --man' and the mafft page.\n",
      "\n",
      "The default gap scoring scheme has been changed in version 7.110 (2013 Oct).\n",
      "It tends to insert more gaps into gap-rich regions than previous versions.\n",
      "To disable this change, add the --leavegappyregion option.\n",
      "\n",
      "1.70user 0.09system 0:01.78elapsed 101%CPU (0avgtext+0avgdata 56504maxresident)k\n",
      "2144inputs+216outputs (7major+36923minor)pagefaults 0swaps\n"
     ]
    }
   ],
   "source": [
    "!time mafft --auto 18s.fasta > mafft_18s.fasta"
   ]
  },
  {
   "cell_type": "markdown",
   "metadata": {},
   "source": [
    "Деревья по выравниваниям построю на сайте [маффта](https://mafft.cbrc.jp/alignment/server/phylogeny.html), используя NJ, 300 итераций для бутстрепа:\n",
    "И получилось что-то совсем (очень) странное:\n",
    "#### mtDNA:\n",
    "![](mafft_mt_tree.png)\n"
   ]
  },
  {
   "cell_type": "markdown",
   "metadata": {},
   "source": [
    "Если убрать ту гринду, то все получится шикарно: мышка - аутгруппа, потом сначала отделились лама и верблюд (они между собой похожи внешне), потом отходят три ветки: Баран, лошадь с овцой вместе с носорогом (!) - круто, но вроде так в действительности и есть, они ближе. И затем наши псевдо-рыбы, на самом деле парнокопытные: дельфин+косатка, кошалот+синий кит (balaenopetra musculus).\n",
    "#### 18s:\n",
    "![](mafft_18s_tree.png)"
   ]
  },
  {
   "cell_type": "markdown",
   "metadata": {},
   "source": [
    "Тут все оочень странно (возможно, из-за малой длины РНК - всего лишь около 1700-1800.\n",
    "Отдельно(!!!) кашалот.  И очень близко друг к другу все остальные (с низким уровнем поддержки к тому же).\n",
    "### Max-Likelihood methods\n",
    "Выравняю Muscle:"
   ]
  },
  {
   "cell_type": "code",
   "execution_count": 12,
   "metadata": {},
   "outputs": [
    {
     "name": "stdout",
     "output_type": "stream",
     "text": [
      "\n",
      "MUSCLE v3.8.31 by Robert C. Edgar\n",
      "\n",
      "http://www.drive5.com/muscle\n",
      "This software is donated to the public domain.\n",
      "Please cite: Edgar, R.C. Nucleic Acids Res 32(5), 1792-97.\n",
      "\n",
      "18s 8 seqs, max length 1871, avg  length 1855\n",
      "00:00:00    24 MB(-4%)  Iter   1  100.00%  K-mer dist pass 1\n",
      "00:00:00    24 MB(-4%)  Iter   1  100.00%  K-mer dist pass 2\n",
      "00:00:01    40 MB(-6%)  Iter   1  100.00%  Align node       \n",
      "00:00:01    40 MB(-6%)  Iter   1  100.00%  Root alignment\n",
      "00:00:01    40 MB(-6%)  Iter   2  100.00%  Refine tree   \n",
      "00:00:01    40 MB(-6%)  Iter   2  100.00%  Root alignment\n",
      "00:00:01    40 MB(-6%)  Iter   2  100.00%  Root alignment\n",
      "00:00:02    40 MB(-6%)  Iter   3  100.00%  Refine biparts\n",
      "00:00:03    40 MB(-6%)  Iter   4  100.00%  Refine biparts\n",
      "2.61user 0.00system 0:02.62elapsed 99%CPU (0avgtext+0avgdata 20744maxresident)k\n",
      "712inputs+32outputs (1major+7030minor)pagefaults 0swaps\n"
     ]
    }
   ],
   "source": [
    "!time muscle -in 18s.fasta -out muscle_18s.fasta"
   ]
  },
  {
   "cell_type": "code",
   "execution_count": 13,
   "metadata": {},
   "outputs": [
    {
     "name": "stdout",
     "output_type": "stream",
     "text": [
      "\n",
      "MUSCLE v3.8.31 by Robert C. Edgar\n",
      "\n",
      "http://www.drive5.com/muscle\n",
      "This software is donated to the public domain.\n",
      "Please cite: Edgar, R.C. Nucleic Acids Res 32(5), 1792-97.\n",
      "\n",
      "mt 12 seqs, max length 16832, avg  length 16525\n",
      "00:00:00    25 MB(-4%)  Iter   1  100.00%  K-mer dist pass 1\n",
      "00:00:00    25 MB(-4%)  Iter   1  100.00%  K-mer dist pass 2\n",
      "00:00:57  467 MB(-70%)  Iter   1  100.00%  Align node       \n",
      "00:00:57  467 MB(-70%)  Iter   1  100.00%  Root alignment\n",
      "00:01:36  467 MB(-70%)  Iter   2  100.00%  Refine tree   \n",
      "00:01:36  467 MB(-70%)  Iter   2  100.00%  Root alignment\n",
      "00:01:36  467 MB(-70%)  Iter   2  100.00%  Root alignment\n",
      "00:04:16  467 MB(-70%)  Iter   3  100.00%  Refine biparts\n",
      "00:07:26  467 MB(-70%)  Iter   4  100.00%  Refine biparts\n",
      "00:09:47  467 MB(-70%)  Iter   5  100.00%  Refine biparts\n",
      "00:12:05  467 MB(-70%)  Iter   6  100.00%  Refine biparts\n",
      "724.17user 0.32system 12:04.70elapsed 99%CPU (0avgtext+0avgdata 433912maxresident)k\n",
      "0inputs+496outputs (0major+136329minor)pagefaults 0swaps\n"
     ]
    }
   ],
   "source": [
    "!time muscle -in mt.fasta -out muscle_mt.fasta"
   ]
  },
  {
   "cell_type": "markdown",
   "metadata": {},
   "source": [
    "После того, как выровняли, выберем лучшую модель эволюции [тут](http://iqtree.cibiv.univie.ac.at/):\n",
    "* Для 18s: Best-fit model: TIMe chosen according to BIC.\n",
    "* Для mtDNA: Best-fit model: GTR+F+G4 chosen according to BIC\n",
    "Ну и теперь построю их в меге:"
   ]
  },
  {
   "cell_type": "markdown",
   "metadata": {},
   "source": [
    "#### mt (Он считался часа два):\n",
    "![](ml_mt.png)"
   ]
  },
  {
   "cell_type": "markdown",
   "metadata": {},
   "source": [
    "Круто! Тут все очень похоже на картинку с mt mafft'а, но при этом Globicephala melas (обыкновенную гринду) он уже не засунул наружу. Хотя, все еще необычно, что он ее отделил от клады всяких водных парнокопытных (кашалота+кита, дельфина+касатки). Потом к ним присоединяется баран, затем лама+верблюд (все хорошо и похоже), нооо в другой ветке находятся носорог, и клада осел+конь. И, к ним присоединяется эта гринда. СТранно и удивительно, возможно у нее с mt_DNA данными что-то не так, так как она вроде как тоже китообразное).\n",
    "Но, если ее выкинуть, то все очень даже неплохо!\n",
    "\n",
    "#### 18s:\n",
    "![](ml_18s.png)"
   ]
  },
  {
   "cell_type": "markdown",
   "metadata": {},
   "source": [
    "Ну собственно говоря бутстреп поддержки низкие, объединения кое-где странные (кашалот вместе с лошадью), но все равно прослеживаются закономерности. Дельфин(L.obliquidens) вместе с гриндой (это круто, так как он тоже относится к роду дельфинов) и вместе с полоситиком(B.acutorostata) в одной кладе, потом к ним присоединяются верблюд и баран и вот дальше та сомнительная клада кашалот+лошадь 0_0.\n",
    "Но, вцелом неплохо."
   ]
  },
  {
   "cell_type": "markdown",
   "metadata": {},
   "source": [
    "Я решил посмотреть, что дает настоящее дерево из интернетов, которые конструируют умные люди:\n",
    "    \n",
    "![](real_tree.png)\n",
    "\n",
    "Источник:\n",
    "    Spaulding M, O'Leary MA, Gatesy J (2009) Relationships of Cetacea (Artiodactyla) Among Mammals: Increased Taxon Sampling Alters Interpretations of Key Fossils and Character Evolution. PLoS ONE 4(9): e7062. doi:10.1371/journal.pone.0007062"
   ]
  },
  {
   "cell_type": "markdown",
   "metadata": {},
   "source": [
    "По этому рисунку носоро(rhinocerotidae, Ceratotherium simum) должен быть прям отедльно, но его обычно присоединяло в кладу equus (лошадь (cabalus), осел). И это так и происходило!\n",
    "Расположение китообразных согласно мтДНК клада с кашалот+кит, дельфин+касатка, но в дереве чуть по другому - китообразные отходят раньше всех (но кстати интересно, что гринда, которая тоже китообразное два раза отсоединилась, что и должно дать повод для размышлений))).\n",
    "\n",
    "ВНешние признаки внутри клад сложно сопоставлять, так как и размеры у этих воддных парнокопытных варьируются, а внешние признаки достаточно похожи. \n",
    "Но разделение конкретных клад более менее произошло успешно (по мито"
   ]
  }
 ],
 "metadata": {
  "kernelspec": {
   "display_name": "Python 3",
   "language": "python",
   "name": "python3"
  },
  "language_info": {
   "codemirror_mode": {
    "name": "ipython",
    "version": 3
   },
   "file_extension": ".py",
   "mimetype": "text/x-python",
   "name": "python",
   "nbconvert_exporter": "python",
   "pygments_lexer": "ipython3",
   "version": "3.7.6"
  }
 },
 "nbformat": 4,
 "nbformat_minor": 4
}
