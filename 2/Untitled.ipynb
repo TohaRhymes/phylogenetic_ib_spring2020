{
 "cells": [
  {
   "cell_type": "code",
   "execution_count": null,
   "metadata": {},
   "outputs": [],
   "source": [
    "# load python modules\n",
    "# May require one time install of biopython and xml2dict.\n",
    "from Bio import Entrez\n",
    "import xmltodict"
   ]
  },
  {
   "cell_type": "code",
   "execution_count": null,
   "metadata": {},
   "outputs": [],
   "source": [
    "# initialize some default parameters\n",
    "Entrez.email = 'anton.chana@gmail.com' # provide your email address\n",
    "db = 'dbvar'                              # set search to dbVar database\n",
    "paramEutils = { 'usehistory':'Y' }        # Use Entrez search history to cache results\n",
    "\n",
    "# generate query to Entrez eSearch\n",
    "eSearch = Entrez.esearch(db=db, term='(\"variant\"[Object Type] AND estd214)', **paramEutils)\n",
    "\n",
    "# get eSearch result as dict object\n",
    "res = Entrez.read(eSearch)\n",
    "\n",
    "# take a peek of what's in the result (ie. WebEnv, Count, etc.)\n",
    "for k in res:\n",
    "    print (k, \"=\",  res[k])\n",
    "\n",
    "paramEutils['WebEnv'] = res['WebEnv']         #add WebEnv and query_key to eUtils parameters to request esummary using  \n",
    "paramEutils['query_key'] = res['QueryKey']    #search history (cache results) instead of using IdList \n",
    "paramEutils['rettype'] = 'xml'                #get report as xml\n",
    "paramEutils['retstart'] = 0                   #get result starting at 0, top of IdList\n",
    "paramEutils['retmax'] = 5                     #get next five results\n",
    "\n",
    "# generate request to Entrez eSummary\n",
    "result = Entrez.esummary(db=db, **paramEutils)\n",
    "# get xml result\n",
    "xml = result.read()\n",
    "# take a peek at xml\n",
    "print(xml)"
   ]
  }
 ],
 "metadata": {
  "kernelspec": {
   "display_name": "Python 3",
   "language": "python",
   "name": "python3"
  },
  "language_info": {
   "codemirror_mode": {
    "name": "ipython",
    "version": 3
   },
   "file_extension": ".py",
   "mimetype": "text/x-python",
   "name": "python",
   "nbconvert_exporter": "python",
   "pygments_lexer": "ipython3",
   "version": "3.7.6"
  }
 },
 "nbformat": 4,
 "nbformat_minor": 4
}
