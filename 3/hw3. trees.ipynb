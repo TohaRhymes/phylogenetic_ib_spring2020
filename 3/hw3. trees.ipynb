{
 "cells": [
  {
   "cell_type": "markdown",
   "metadata": {},
   "source": [
    "## HW 3\n",
    "For this task, we will use the alignment obtained using prank taking into account codons:\n",
    "prank `-codon -d = SUP35_10seqs.fa -o = SUP35_aln -F The`\n",
    "\n",
    "Ready file is `SUP35_aln.best.fas`"
   ]
  },
  {
   "cell_type": "markdown",
   "metadata": {},
   "source": [
    "1. Build UPGMA and NJ trees for this alignment, add both trees to the report. \t"
   ]
  },
  {
   "cell_type": "markdown",
   "metadata": {},
   "source": [
    "Что я делал?\n",
    "* сконвертировал в формат .mega\n",
    "* сделал NJ-дерево с bootstrap (100 iters)\n",
    "Ага, да. Построил. Почемуто если строить с бутстепом, то крашится память\n",
    "\n",
    "Воспользуюсь [Маффтом](https://mafft.cbrc.jp/alignment/server/phylogeny.html).\n",
    "#### NJ:\n",
    "![](nj.png)\n",
    "\n",
    "#### UPGMA:\n",
    "![](upgma.png)"
   ]
  },
  {
   "cell_type": "markdown",
   "metadata": {},
   "source": [
    "2.  How they support the choice of Agos + Kla as an external group?\n",
    "\n",
    "В УПГМА они прям отдельно, в NJ они отделяются, но не ото всех."
   ]
  },
  {
   "cell_type": "markdown",
   "metadata": {},
   "source": [
    "3. Model selection: To select appropriate model for our data, we can use jmodeltest (https://github.com/ddarriba/jmodeltest2, web interface is down right now), or ModelFinder (part of IQ-Tree, http://iqtree.cibiv.univie.ac.at/ , choose “Model selection” tab). Which model works best for the data?\n",
    "\n",
    "Делаю на дефолтных параметрах.\n",
    "\n",
    "\n",
    "Лог в файле: SUP35_aln.best.fas.jmodeltest.html\n",
    "\n",
    "Он выдал, что самая оптимальная модель: TrN+I+G\n"
   ]
  },
  {
   "cell_type": "markdown",
   "metadata": {},
   "source": [
    "На этом все! (остальсь интересные опциональные пункты, но времени нет))"
   ]
  },
  {
   "cell_type": "markdown",
   "metadata": {},
   "source": [
    "##### B. Про организм для проекта будет в самом проекте))"
   ]
  }
 ],
 "metadata": {
  "kernelspec": {
   "display_name": "Python 3",
   "language": "python",
   "name": "python3"
  },
  "language_info": {
   "codemirror_mode": {
    "name": "ipython",
    "version": 3
   },
   "file_extension": ".py",
   "mimetype": "text/x-python",
   "name": "python",
   "nbconvert_exporter": "python",
   "pygments_lexer": "ipython3",
   "version": "3.7.6"
  }
 },
 "nbformat": 4,
 "nbformat_minor": 4
}
