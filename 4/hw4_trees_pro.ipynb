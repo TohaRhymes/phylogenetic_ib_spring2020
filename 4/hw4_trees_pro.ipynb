{
 "cells": [
  {
   "cell_type": "markdown",
   "metadata": {},
   "source": [
    "## HW4. "
   ]
  },
  {
   "cell_type": "markdown",
   "metadata": {},
   "source": [
    "A. ML. For this task we will use the same alignment as last time - see the materials folder.\n",
    "\t \t \t\n",
    "1. Build an ML tree (500 bootstrap replicates) for the whole sequence using RAxML or IQ-Tree with GTRCAT model. \n",
    "\n",
    "![](ml_tree_GTRCAT.png)\n",
    "2. Build an ML tree (500 bootstrap replicates). If you determined the best partitioning scheme in the previous homework, use it, otherwise analyze it as a whole sequence.\n",
    "Scheme from previous hw is TrN+I+G. Lets build!\n",
    "![](ml_tree_TrNIG.png)\n",
    "\n",
    "\n",
    "\n",
    "##### Оба дерева получились с одинаковой топологией! Но только немного бутстрепы разные, но это (по идее) вообще случайная величина, насколько я понял."
   ]
  },
  {
   "cell_type": "markdown",
   "metadata": {},
   "source": [
    "3. Root the trees obtained in 1 and 2, and “collapse” (cut-off) clades with bootstrap support < 70%. Display the resulting trees with bootstrap support (you can choose any way to create a picture). Based on the trees constructed, describe the relationship between the taxa S. cerevisiae, S. boulardii, and S. paradoxus.\n",
    "\n",
    "В первом и втором нету бутстрапа меньше 70%, т.е. обрезать не надо. И укоренены они вроде как хорошо (буддем считать, что ребро, которое \"самое левое\" - из него корень). \n",
    "\n",
    "Как раз аутгруппа - Kla & Agos. ИЛИ может это сработал эффект притяжения длинных ветвей из-за того, что они между собой похожи, но не похожи на другие.\n",
    "\n",
    "S. cerevisiae - scer (2 рида)\n",
    "S. boulardii - sbou (1 рид)\n",
    "S. paradoxus - spar (1 рид)\n",
    "\n",
    "Основываясь на обоих деревьях (т.е. моделях GTRCAT и TrN+I+G) эти три таксона образуют одну кладу (причем S. cerevisiae и S. boulardii) между собой ближе, а S. paradoxus более \"дальний родственник\".\n"
   ]
  },
  {
   "cell_type": "markdown",
   "metadata": {},
   "source": [
    "## B. Bayesian. \n",
    "You can use standalone or online version of the MrBayes software. \n",
    "\n",
    "http://www.phylogeny.fr/one_task.cgi?task_type=mrbayes\n",
    "1. (for standalone version) Convert the alignment into the nexus format for mrbayes.\n",
    "2. Select GTR + I + G model. \n",
    "3. Run 100 thousand generations of the Markov chain. Is the chain converged (standard deviation of split frequencies <0.01)? If not, how many generations did it take for the chain to reach the convergence?\n",
    "4. Summarize the model parameters.\n",
    "5. Summarize the trees.\n",
    "\n",
    "Зашел, все запустил. Ждемс)\n",
    "Результаты: http://www.phylogeny.fr/one_task.cgi?workflow_id=290a3e653a7d6ac45f33e757167e7850&tab_index=3\n",
    "Логи в файле bayes_logs.txt\n",
    "![](Clade_credibility_values.png)\n",
    "\n",
    "![](Phylogram.png)\n",
    "\n",
    "3. Is the chain converged (standard deviation of split frequencies <0.01)? If not, how many generations did it take for the chain to reach the convergence?\n",
    "\n",
    "`Convergence diagnostic (PSRF = Potential Scale Reduction Factor; Gelman and Rubin, 1992) should approach 1.0 as runs converge.`\n",
    "Due to logs: PSRF ~=1 и Variance << 0.01  => сходится, причем начало сразу же сходиться.\n",
    "4. Summarize the model parameters.\n",
    "\n",
    "```\n",
    "Summary statistics for partitions with frequency >= 0.10 in at least one run:\n",
    "          Average standard deviation of split frequencies = 0.005728\n",
    "          Maximum standard deviation of split frequencies = 0.018831\n",
    "          Average PSRF for parameter values (excluding NA and >10.0) = 1.002\n",
    "          Maximum PSRF for parameter values = 1.026\n",
    "```\n",
    "\n",
    "5. Summarize the trees.\n",
    "\n",
    "```\n",
    "Credible sets of trees (15 trees sampled):\n",
    "         50 % credible set contains 5 trees\n",
    "         90 % credible set contains 11 trees\n",
    "         95 % credible set contains 12 trees\n",
    "         99 % credible set contains 14 trees\n",
    "```\n",
    " "
   ]
  },
  {
   "cell_type": "markdown",
   "metadata": {},
   "source": [
    "6. At what bootstrap / posterior probability values cutoff the topology of trees from A. and B. will match?\n",
    "\n",
    "Я не знаю почему настолько все круто, но и тут топология совпала. (т.е даже не надо обрезать что-либо).\n",
    "\n",
    "Похоже, мы нашли идеальное дерево! Плюсик к карме!\n"
   ]
  }
 ],
 "metadata": {
  "kernelspec": {
   "display_name": "Python 3",
   "language": "python",
   "name": "python3"
  },
  "language_info": {
   "codemirror_mode": {
    "name": "ipython",
    "version": 3
   },
   "file_extension": ".py",
   "mimetype": "text/x-python",
   "name": "python",
   "nbconvert_exporter": "python",
   "pygments_lexer": "ipython3",
   "version": "3.7.6"
  }
 },
 "nbformat": 4,
 "nbformat_minor": 4
}
