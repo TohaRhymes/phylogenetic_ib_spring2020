{
 "cells": [
  {
   "cell_type": "markdown",
   "metadata": {},
   "source": [
    "## HW4. "
   ]
  },
  {
   "cell_type": "markdown",
   "metadata": {},
   "source": [
    "A. ML. For this task we will use the same alignment as last time - see the materials folder.\n",
    "\t \t \t\n",
    "1. Build an ML tree (500 bootstrap replicates) for the whole sequence using RAxML or IQ-Tree with GTRCAT model. \t\n",
    "2. Build an ML tree (500 bootstrap replicates). If you determined the best partitioning scheme in the previous homework, use it, otherwise analyze it as a whole sequence.\n",
    "\n",
    "3. Root the trees obtained in 1 and 2, and “collapse” (cut-off) clades with bootstrap support < 70%. Display the resulting trees with bootstrap support (you can choose any way to create a picture). Based on the trees constructed, describe the relationship between the taxa S. cerevisiae, S. boulardii, and S. paradoxus.\n",
    "\n"
   ]
  },
  {
   "cell_type": "markdown",
   "metadata": {},
   "source": [
    "## B. Bayesian. \n",
    "You can use standalone or online version of the MrBayes software. \n",
    "\n",
    "http://www.phylogeny.fr/one_task.cgi?task_type=mrbayes\n",
    "1. (for standalone version) Convert the alignment into the nexus format for mrbayes.\n",
    "2. Select GTR + I + G model. \n",
    "3. Run 100 thousand generations of the Markov chain. Is the chain converged (standard deviation of split frequencies <0.01)? If not, how many generations did it take for the chain to reach the convergence?\n",
    "4. Summarize the model parameters.\n",
    "5. Summarize the trees.\n",
    "6. At what bootstrap / posterior probability values cutoff the topology of trees from A. and B. will match?\n",
    "\n",
    "Зашел, все запустил. Ждемс)\n",
    "![](Clade_credibility_values.png)\n",
    "\n",
    "![](Phylogram.png)\n",
    " "
   ]
  },
  {
   "cell_type": "code",
   "execution_count": null,
   "metadata": {},
   "outputs": [],
   "source": []
  },
  {
   "cell_type": "code",
   "execution_count": null,
   "metadata": {},
   "outputs": [],
   "source": []
  },
  {
   "cell_type": "code",
   "execution_count": null,
   "metadata": {},
   "outputs": [],
   "source": []
  },
  {
   "cell_type": "code",
   "execution_count": null,
   "metadata": {},
   "outputs": [],
   "source": []
  }
 ],
 "metadata": {
  "kernelspec": {
   "display_name": "Python 3",
   "language": "python",
   "name": "python3"
  },
  "language_info": {
   "codemirror_mode": {
    "name": "ipython",
    "version": 3
   },
   "file_extension": ".py",
   "mimetype": "text/x-python",
   "name": "python",
   "nbconvert_exporter": "python",
   "pygments_lexer": "ipython3",
   "version": "3.7.6"
  }
 },
 "nbformat": 4,
 "nbformat_minor": 4
}
